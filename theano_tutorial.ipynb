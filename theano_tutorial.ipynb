{
 "cells": [
  {
   "cell_type": "markdown",
   "metadata": {
    "collapsed": true
   },
   "source": [
    "# CONTENT\n",
    "\n",
    "* **1. Basics**\n",
    "* **2. Derivatives**\n",
    "* **3. Gradient (Use Demos)**"
   ]
  },
  {
   "cell_type": "markdown",
   "metadata": {},
   "source": [
    "# Basics"
   ]
  },
  {
   "cell_type": "markdown",
   "metadata": {},
   "source": [
    "### A. Algebra"
   ]
  },
  {
   "cell_type": "code",
   "execution_count": 1,
   "metadata": {
    "collapsed": true
   },
   "outputs": [],
   "source": [
    "import numpy\n",
    "import theano.tensor as T\n",
    "from theano import function"
   ]
  },
  {
   "cell_type": "code",
   "execution_count": 10,
   "metadata": {
    "collapsed": false
   },
   "outputs": [
    {
     "name": "stdout",
     "output_type": "stream",
     "text": [
      "5.0\n"
     ]
    }
   ],
   "source": [
    "# SCALAR ARITHMETIC\n",
    "x = T.dscalar('x')\n",
    "y = T.dscalar('y')\n",
    "    # define type of variables.\n",
    "    # optionally assign variable name.\n",
    "z = x + y\n",
    "f = function([x,y],z)\n",
    "    # define function.\n",
    "print f(2,3)"
   ]
  },
  {
   "cell_type": "code",
   "execution_count": 16,
   "metadata": {
    "collapsed": false
   },
   "outputs": [
    {
     "name": "stdout",
     "output_type": "stream",
     "text": [
      "[ 25.  49.]\n"
     ]
    }
   ],
   "source": [
    "# MATRIX ARITHMETIC I: VECTOR\n",
    "v = T.vector()\n",
    "w = T.vector()\n",
    "r = v**2 + w**2 + 2*v*w\n",
    "f = function([w, v], r)\n",
    "print f([1,2],[4,5])"
   ]
  },
  {
   "cell_type": "code",
   "execution_count": 7,
   "metadata": {
    "collapsed": false
   },
   "outputs": [
    {
     "name": "stdout",
     "output_type": "stream",
     "text": [
      "[[ 2.  4.]\n",
      " [ 6.  8.]]\n"
     ]
    }
   ],
   "source": [
    "# MATRIX ARITHMETIC II: MATRIX\n",
    "x = T.dmatrix('x')\n",
    "y = T.dmatrix('y')\n",
    "z = x + y\n",
    "f = function([x,y],z)\n",
    "print f([[1,2],[3,4]], [[1,2],[3,4]])"
   ]
  },
  {
   "cell_type": "code",
   "execution_count": 109,
   "metadata": {
    "collapsed": false
   },
   "outputs": [
    {
     "name": "stdout",
     "output_type": "stream",
     "text": [
      "0.9\n"
     ]
    }
   ],
   "source": [
    "# DOT (MANUAL)\n",
    "x = T.fvector('x')\n",
    "W = theano.shared(np.asarray([.2,.7]), 'W')\n",
    "y = (x * W).sum()\n",
    "    # * for Hadamard Product.\n",
    "f = function([x], y)\n",
    "print f([1.,1.]) # expected: 0.2*1.0 + 0.7*1.0 = 0.9."
   ]
  },
  {
   "cell_type": "code",
   "execution_count": null,
   "metadata": {
    "collapsed": true
   },
   "outputs": [],
   "source": [
    "# COMMONLY USED VARIABLE TYPES\n",
    "#  - fvector: float32, ndim=1.\n",
    "#  - ivector: int32, ndim=1.\n",
    "#  - fscalar: float32, ndim=0.\n",
    "#  - fmatrix: float32, ndim=2.\n",
    "#  - ftensor3: float32, ndim=3.\n",
    "#  - dtensor3: float64, ndim=3."
   ]
  },
  {
   "cell_type": "markdown",
   "metadata": {},
   "source": [
    "### B. Function "
   ]
  },
  {
   "cell_type": "code",
   "execution_count": 22,
   "metadata": {
    "collapsed": true
   },
   "outputs": [],
   "source": [
    "import theano.tensor as T\n",
    "from theano import function"
   ]
  },
  {
   "cell_type": "code",
   "execution_count": 17,
   "metadata": {
    "collapsed": false
   },
   "outputs": [
    {
     "name": "stdout",
     "output_type": "stream",
     "text": [
      "[[ 0.5         0.73105858]\n",
      " [ 0.26894142  0.11920292]]\n"
     ]
    }
   ],
   "source": [
    "x = T.dmatrix()\n",
    "s = 1 / (1 + T.exp(-x))\n",
    "logistic = function([x], s)\n",
    "print logistic([[0,1],[-1,-2]])"
   ]
  },
  {
   "cell_type": "markdown",
   "metadata": {},
   "source": [
    "### C. Compute Multiple Things"
   ]
  },
  {
   "cell_type": "code",
   "execution_count": 23,
   "metadata": {
    "collapsed": true
   },
   "outputs": [],
   "source": [
    "import theano.tensor as T\n",
    "from theano import function"
   ]
  },
  {
   "cell_type": "code",
   "execution_count": 21,
   "metadata": {
    "collapsed": false
   },
   "outputs": [
    {
     "name": "stdout",
     "output_type": "stream",
     "text": [
      "[[ 2.  4.]\n",
      " [ 6.  8.]]\n",
      "[[ 0.  0.]\n",
      " [ 0.  0.]]\n",
      "[[  7.  10.]\n",
      " [ 15.  22.]]\n"
     ]
    }
   ],
   "source": [
    "a, b = T.dmatrices('a','b')\n",
    "    # assigning names is necessary here to indicate unpacking multiple vars.\n",
    "add = a + b\n",
    "subtract = a - b\n",
    "dot = T.dot(a,b)\n",
    "f = function([a, b], [add, subtract, dot])\n",
    "ret = f([[1,2],[3,4]], [[1,2],[3,4]])\n",
    "print ret[0]\n",
    "print ret[1]\n",
    "print ret[2]"
   ]
  },
  {
   "cell_type": "markdown",
   "metadata": {},
   "source": [
    "### D. Set Default Arg-Value"
   ]
  },
  {
   "cell_type": "code",
   "execution_count": 24,
   "metadata": {
    "collapsed": true
   },
   "outputs": [],
   "source": [
    "import theano.tensor as T\n",
    "from theano import function, In"
   ]
  },
  {
   "cell_type": "code",
   "execution_count": 25,
   "metadata": {
    "collapsed": false
   },
   "outputs": [
    {
     "name": "stdout",
     "output_type": "stream",
     "text": [
      "11.0\n",
      "12.0\n"
     ]
    }
   ],
   "source": [
    "x, y = T.dscalars('x','y')\n",
    "z = x + y\n",
    "f = function([x, In(y, value=1)], z)\n",
    "print f(10)\n",
    "print f(10,2)"
   ]
  },
  {
   "cell_type": "code",
   "execution_count": 30,
   "metadata": {
    "collapsed": false
   },
   "outputs": [
    {
     "name": "stdout",
     "output_type": "stream",
     "text": [
      "22.0\n",
      "11.0\n",
      "22.0\n"
     ]
    }
   ],
   "source": [
    "x, y, z = T.dscalars('x','y','z')\n",
    "w = (x+y) * z\n",
    "f = function([x, In(y,value=1), In(z,value=2,name='zzz')], w)\n",
    "print f(10)\n",
    "print f(10,zzz=1)\n",
    "print f(10,1,2)"
   ]
  },
  {
   "cell_type": "markdown",
   "metadata": {},
   "source": [
    "### E. Shared Variables"
   ]
  },
  {
   "cell_type": "code",
   "execution_count": 38,
   "metadata": {
    "collapsed": false
   },
   "outputs": [
    {
     "name": "stdout",
     "output_type": "stream",
     "text": [
      "0\n",
      "10\n",
      "5\n"
     ]
    }
   ],
   "source": [
    "# COUNTER\n",
    "from theano import shared\n",
    "    # @ param 'givens' omitted.\n",
    "state = shared(0)\n",
    "    # initialize counter.\n",
    "i = T.iscalar('int')\n",
    "accumulator = function([i], state, updates=[(state, state+i)])\n",
    "    #                         ^               ^      ^\n",
    "    #                         |               |      |\n",
    "    #       shared var. (returned on print)  current next (change by any arbitrary value)\n",
    "decrementor = function([i], state, updates=[(state, state-i)])\n",
    "print state.get_value()\n",
    "accumulator(10)\n",
    "print state.get_value()\n",
    "decrementor(5)\n",
    "print state.get_value()"
   ]
  },
  {
   "cell_type": "code",
   "execution_count": 54,
   "metadata": {
    "collapsed": false
   },
   "outputs": [
    {
     "name": "stdout",
     "output_type": "stream",
     "text": [
      "5\n",
      "<bound method ScalarSharedVariable.get_value of <TensorType(int64, scalar)>> -90\n"
     ]
    }
   ],
   "source": [
    "# COPY -> NEW COUNTER\n",
    "#  purpuse: avoiding compiling the same function again.\n",
    "newState = shared(-100)\n",
    "newAccumulator = accumulator.copy(swap={state:newState})\n",
    "    # old function _accumulator_ usus 'state' as counter, \n",
    "    #  we'd like copied function to use a new state 'newState'.\n",
    "print state.get_value()\n",
    "newAccumulator(10)\n",
    "print state.get_value, newState.get_value()"
   ]
  },
  {
   "cell_type": "markdown",
   "metadata": {},
   "source": [
    "### F. Random Numbers"
   ]
  },
  {
   "cell_type": "code",
   "execution_count": 82,
   "metadata": {
    "collapsed": false
   },
   "outputs": [
    {
     "name": "stdout",
     "output_type": "stream",
     "text": [
      "1.98197037268\n",
      "-0.148906614065\n",
      "[[ 0.53096416  0.67607951]\n",
      " [ 0.62270975  0.64667994]]\n",
      "[[ 0.53096416  0.67607951]\n",
      " [ 0.62270975  0.64667994]]\n"
     ]
    }
   ],
   "source": [
    "from theano.tensor.shared_randomstreams import RandomStreams\n",
    "from theano import function\n",
    "rs = RandomStreams(seed=0)\n",
    "randomFloat = rs.normal()\n",
    "randomMatrix = rs.uniform((2,2))\n",
    "f = function([], randomFloat)\n",
    "g = function([], randomMatrix, no_default_updates=True)\n",
    "    # no_default_updates: keep the generated random the first time.\n",
    "print f()\n",
    "print f()\n",
    "print g()\n",
    "print g()"
   ]
  },
  {
   "cell_type": "markdown",
   "metadata": {},
   "source": [
    "# Derivatives"
   ]
  },
  {
   "cell_type": "markdown",
   "metadata": {},
   "source": [
    "### A. Standard Gradient"
   ]
  },
  {
   "cell_type": "code",
   "execution_count": 85,
   "metadata": {
    "collapsed": false
   },
   "outputs": [
    {
     "name": "stdout",
     "output_type": "stream",
     "text": [
      "8.0\n"
     ]
    }
   ],
   "source": [
    "# BASICS\n",
    "import numpy as np\n",
    "import theano\n",
    "import theano.tensor as T\n",
    "from theano import pp, function\n",
    "x = T.dscalar('x')\n",
    "y = x ** 2\n",
    "    # y = f(x) = x^2\n",
    "yGrad = T.grad(y, x)\n",
    "    # dy/dx = 2x\n",
    "    # this can be shown using: print pp(f.maker.fgraph.outputs[0]).\n",
    "    #  (TensorConstant{2.0} * x)\n",
    "f = function([x], yGrad)\n",
    "print f(4) # expected: 2x, i.e. 8."
   ]
  },
  {
   "cell_type": "code",
   "execution_count": 96,
   "metadata": {
    "collapsed": false
   },
   "outputs": [
    {
     "name": "stdout",
     "output_type": "stream",
     "text": [
      "0.25\n"
     ]
    }
   ],
   "source": [
    "# SIGMOID I: SINGLE NUMBER\n",
    "x = T.dscalar('x')\n",
    "sigmoid = 1 / (1 + T.exp(-x))\n",
    "sigmoidGrad = T.grad(sigmoid, x)\n",
    "f = function([x], sigmoidGrad)\n",
    "print f(0) # dsigmoid = sigmoid*(1-sigmoid), expected: .5*(1-.5) = .25."
   ]
  },
  {
   "cell_type": "code",
   "execution_count": 98,
   "metadata": {
    "collapsed": false
   },
   "outputs": [
    {
     "name": "stdout",
     "output_type": "stream",
     "text": [
      "[[ 0.25        0.19661193]\n",
      " [ 0.19661193  0.10499359]]\n"
     ]
    }
   ],
   "source": [
    "# SIGMOID II: MATRIX\n",
    "x = T.dmatrix('x')\n",
    "sigmoid = T.sum(1 / (1 + T.exp(-x)))\n",
    "    # .sum is a must, because the first arg in .grad must be a scalar.\n",
    "sigmoidGrad = T.grad(sigmoid, x)\n",
    "f = function([x], sigmoidGrad)\n",
    "print f([[0,1],[-1,-2]])"
   ]
  },
  {
   "cell_type": "markdown",
   "metadata": {},
   "source": [
    "### B. Jacobian"
   ]
  },
  {
   "cell_type": "code",
   "execution_count": 103,
   "metadata": {
    "collapsed": false
   },
   "outputs": [
    {
     "name": "stdout",
     "output_type": "stream",
     "text": [
      "[[ 0.  0.  0.  0.]\n",
      " [ 0.  2.  0.  0.]\n",
      " [ 0.  0.  4.  0.]\n",
      " [ 0.  0.  0.  6.]]\n"
     ]
    }
   ],
   "source": [
    "import theano\n",
    "import theano.tensor as T\n",
    "x = T.dvector('x')\n",
    "y = x**2\n",
    "grad = theano.gradient.jacobian(y, x)\n",
    "f = theano.function([x], grad)\n",
    "print f([0,1,2,3]) # 0-terms: partial deriv. wrt. other x's returns 0."
   ]
  },
  {
   "cell_type": "markdown",
   "metadata": {},
   "source": [
    "# Gradient"
   ]
  },
  {
   "cell_type": "code",
   "execution_count": 111,
   "metadata": {
    "collapsed": false
   },
   "outputs": [
    {
     "name": "stdout",
     "output_type": "stream",
     "text": [
      "0.9\n",
      "8.54\n",
      "13.124\n",
      "15.8744\n",
      "17.52464\n",
      "18.514784\n",
      "19.1088704\n",
      "19.46532224\n",
      "19.679193344\n",
      "19.8075160064\n"
     ]
    }
   ],
   "source": [
    "# INPUT -- WEIGHTS -- OUTPUT\n",
    "import theano\n",
    "from theano import function, shared\n",
    "import theano.tensor as T\n",
    "import numpy as np\n",
    "\n",
    "x = T.fvector('x')\n",
    "target = T.fscalar('target')\n",
    "\n",
    "W = shared(np.array([.2,.7]), 'W')\n",
    "y = (x*W).sum()\n",
    "\n",
    "cost = T.sqr(target-y) # .sqr: ^2\n",
    "grads = T.grad(cost, [W]) # dcost/dW\n",
    "WUpdated = W - (.1 * grads[0])\n",
    "updates = [(W, WUpdated)]\n",
    "\n",
    "f = function([x, target], y, updates=updates)\n",
    "\n",
    "for i in xrange(10):\n",
    "    output = f([1.,1.], 20.)\n",
    "    print output"
   ]
  },
  {
   "cell_type": "code",
   "execution_count": 133,
   "metadata": {
    "collapsed": false
   },
   "outputs": [
    {
     "name": "stdout",
     "output_type": "stream",
     "text": [
      "W\n",
      "[ 0.2  0.7]\n",
      "Elemwise{mul,no_inplace}.0\n",
      "[ 0.4  1.4]\n"
     ]
    }
   ],
   "source": [
    "# .eval: GET NUMERICAL VALUE OF A VAR.\n",
    "W = shared(np.array([.2,.7]), 'W')\n",
    "print W\n",
    "print W.eval()\n",
    "tmp = W*2\n",
    "print tmp\n",
    "print tmp.eval()"
   ]
  },
  {
   "cell_type": "code",
   "execution_count": 138,
   "metadata": {
    "collapsed": false
   },
   "outputs": [
    {
     "name": "stdout",
     "output_type": "stream",
     "text": [
      "[-3. -2. -1.  0.  1.  2.  3.]\n",
      "[ 0.04742587  0.11920292  0.26894142  0.5         0.73105858  0.88079708\n",
      "  0.95257413]\n",
      "[-0.99505475 -0.96402758 -0.76159416  0.          0.76159416  0.96402758\n",
      "  0.99505475]\n",
      "[[ 0.0015683   0.00426308  0.01158826  0.03150015  0.0856263   0.2327564\n",
      "   0.6326975 ]]\n"
     ]
    }
   ],
   "source": [
    "# ACTIVATION FUNCTIONS\n",
    "x = shared(np.array([-3.,-2.,-1.,0.,1.,2.,3.]), 'x')\n",
    "print x.eval()\n",
    "sigmoidX = T.nnet.sigmoid(x)\n",
    "tanhX = T.tanh(x)\n",
    "softmaxX = T.nnet.softmax(x)\n",
    "print sigmoidX.eval()\n",
    "print tanhX.eval()\n",
    "print softmaxX.eval()"
   ]
  },
  {
   "cell_type": "code",
   "execution_count": 168,
   "metadata": {
    "collapsed": false
   },
   "outputs": [
    {
     "name": "stdout",
     "output_type": "stream",
     "text": [
      "4.0\n",
      "4.0\n",
      "7\n",
      "[[-3. -2. -1.  0.]\n",
      " [ 1.  2.  3.  4.]]\n",
      "[ 0.  0.  0.  0.  0.  0.  0.  0.]\n",
      "[8]\n"
     ]
    }
   ],
   "source": [
    "# OTHER FUNCTIONS\n",
    "x = shared(np.array([-3.,-2.,-1.,0.,1.,2.,3.,4.]), 'x')\n",
    "print x.sum().eval()\n",
    "print x.max().eval()\n",
    "print x.argmax().eval()\n",
    "print x.reshape((2,4)).eval()\n",
    "print x.zeros_like(x).eval()\n",
    "print x.shape.eval()"
   ]
  },
  {
   "cell_type": "code",
   "execution_count": 173,
   "metadata": {
    "collapsed": false
   },
   "outputs": [
    {
     "name": "stdout",
     "output_type": "stream",
     "text": [
      "[-2. -2. -2.  3.  3.  3.]\n",
      "[-3.  0. -1.  0.  1.  2.  0.  4.]\n"
     ]
    }
   ],
   "source": [
    "# INDEXING\n",
    "x = shared(np.array([-3.,-2.,-1.,0.,1.,2.,3.,4.]), 'x')\n",
    "idx = [1,1,1,6,6,6]\n",
    "print x[idx].eval() # retrieve value by index.\n",
    "xNew = T.set_subtensor(x[idx],0.) # set value by index.\n",
    "print xNew.eval()"
   ]
  },
  {
   "cell_type": "code",
   "execution_count": null,
   "metadata": {
    "collapsed": true
   },
   "outputs": [],
   "source": []
  },
  {
   "cell_type": "code",
   "execution_count": null,
   "metadata": {
    "collapsed": true
   },
   "outputs": [],
   "source": []
  },
  {
   "cell_type": "code",
   "execution_count": null,
   "metadata": {
    "collapsed": true
   },
   "outputs": [],
   "source": []
  },
  {
   "cell_type": "code",
   "execution_count": null,
   "metadata": {
    "collapsed": true
   },
   "outputs": [],
   "source": []
  },
  {
   "cell_type": "code",
   "execution_count": null,
   "metadata": {
    "collapsed": true
   },
   "outputs": [],
   "source": []
  },
  {
   "cell_type": "code",
   "execution_count": null,
   "metadata": {
    "collapsed": true
   },
   "outputs": [],
   "source": []
  },
  {
   "cell_type": "code",
   "execution_count": null,
   "metadata": {
    "collapsed": true
   },
   "outputs": [],
   "source": []
  },
  {
   "cell_type": "code",
   "execution_count": null,
   "metadata": {
    "collapsed": true
   },
   "outputs": [],
   "source": []
  },
  {
   "cell_type": "code",
   "execution_count": null,
   "metadata": {
    "collapsed": true
   },
   "outputs": [],
   "source": []
  },
  {
   "cell_type": "code",
   "execution_count": null,
   "metadata": {
    "collapsed": true
   },
   "outputs": [],
   "source": []
  },
  {
   "cell_type": "code",
   "execution_count": null,
   "metadata": {
    "collapsed": true
   },
   "outputs": [],
   "source": []
  },
  {
   "cell_type": "code",
   "execution_count": null,
   "metadata": {
    "collapsed": true
   },
   "outputs": [],
   "source": []
  },
  {
   "cell_type": "code",
   "execution_count": null,
   "metadata": {
    "collapsed": true
   },
   "outputs": [],
   "source": []
  },
  {
   "cell_type": "code",
   "execution_count": null,
   "metadata": {
    "collapsed": true
   },
   "outputs": [],
   "source": []
  },
  {
   "cell_type": "code",
   "execution_count": null,
   "metadata": {
    "collapsed": true
   },
   "outputs": [],
   "source": []
  },
  {
   "cell_type": "code",
   "execution_count": null,
   "metadata": {
    "collapsed": true
   },
   "outputs": [],
   "source": []
  },
  {
   "cell_type": "code",
   "execution_count": null,
   "metadata": {
    "collapsed": true
   },
   "outputs": [],
   "source": []
  },
  {
   "cell_type": "code",
   "execution_count": null,
   "metadata": {
    "collapsed": true
   },
   "outputs": [],
   "source": []
  },
  {
   "cell_type": "code",
   "execution_count": null,
   "metadata": {
    "collapsed": true
   },
   "outputs": [],
   "source": []
  },
  {
   "cell_type": "code",
   "execution_count": null,
   "metadata": {
    "collapsed": true
   },
   "outputs": [],
   "source": []
  },
  {
   "cell_type": "code",
   "execution_count": null,
   "metadata": {
    "collapsed": true
   },
   "outputs": [],
   "source": []
  },
  {
   "cell_type": "code",
   "execution_count": null,
   "metadata": {
    "collapsed": true
   },
   "outputs": [],
   "source": []
  }
 ],
 "metadata": {
  "kernelspec": {
   "display_name": "Python 2",
   "language": "python",
   "name": "python2"
  },
  "language_info": {
   "codemirror_mode": {
    "name": "ipython",
    "version": 2
   },
   "file_extension": ".py",
   "mimetype": "text/x-python",
   "name": "python",
   "nbconvert_exporter": "python",
   "pygments_lexer": "ipython2",
   "version": "2.7.11"
  }
 },
 "nbformat": 4,
 "nbformat_minor": 0
}
